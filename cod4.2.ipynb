{
 "cells": [
  {
   "cell_type": "code",
   "execution_count": 1,
   "outputs": [],
   "source": [
    "import numpy as np\n",
    "import matplotlib.pyplot as plt\n",
    "import pandas as pd"
   ],
   "metadata": {
    "collapsed": false,
    "pycharm": {
     "name": "#%%\n"
    }
   }
  },
  {
   "cell_type": "code",
   "execution_count": 2,
   "outputs": [
    {
     "data": {
      "text/plain": "   Unnamed: 0 country_code country_name  year  Median age (years)  \\\n0           0          AFG  Afghanistan  1990                15.8   \n1           1          AFG  Afghanistan  1995                16.0   \n2           2          AFG  Afghanistan  2000                15.5   \n3           3          AFG  Afghanistan  2005                16.0   \n4           4          AFG  Afghanistan  2010                15.9   \n\n   Net migration rate (per 1,000 people)  \\\n0                                  -25.1   \n1                                   40.3   \n2                                   -8.9   \n3                                    6.4   \n4                                   -7.6   \n\n   Population with at least some secondary education (% ages 25 and older)  \\\n0                                                8.2                         \n1                                                9.8                         \n2                                               11.1                         \n3                                               14.5                         \n4                                               18.2                         \n\n   Population with at least some secondary education, female (% ages 25 and older)  \\\n0                                                2.3                                 \n1                                                3.5                                 \n2                                                4.5                                 \n3                                                6.3                                 \n4                                                5.9                                 \n\n   Population with at least some secondary education, male (% ages 25 and older)  \\\n0                                               13.6                               \n1                                               15.7                               \n2                                               17.0                               \n3                                               22.3                               \n4                                               29.8                               \n\n   Mean years of schooling, female (years)  ...  \\\n0                                      0.4  ...   \n1                                      0.6  ...   \n2                                      0.8  ...   \n3                                      1.0  ...   \n4                                      1.2  ...   \n\n   Suicide rate, female (per 100,000 people)  \\\n0                                   5.748915   \n1                                   5.748915   \n2                                   1.700000   \n3                                   5.748915   \n4                                   2.100000   \n\n   Ratio of education and health expenditure to military expenditure  \\\n0                                          32.503931                   \n1                                          32.503931                   \n2                                          32.503931                   \n3                                          32.503931                   \n4                                           6.200000                   \n\n   Current health expenditure (% of GDP)  \\\n0                               6.142729   \n1                               6.142729   \n2                               6.142729   \n3                               9.900000   \n4                               8.600000   \n\n   Age-standarized mortality rate attributed to noncommunicable diseases, female  \\\n0                                         533.469231                               \n1                                         533.469231                               \n2                                         857.800000                               \n3                                         533.469231                               \n4                                         826.100000                               \n\n   Age-standarized mortality rate attributed to noncommunicable diseases, male  \\\n0                                         694.073767                             \n1                                         694.073767                             \n2                                         997.800000                             \n3                                         694.073767                             \n4                                         946.000000                             \n\n   Carbon dioxide emissions, per capita (tonnes)  \\\n0                                       5.044112   \n1                                       5.044112   \n2                                       5.044112   \n3                                       5.044112   \n4                                       5.044112   \n\n   Carbon dioxide emissions (kg per 2010 US$ of GDP)  \\\n0                                           0.268299   \n1                                           0.268299   \n2                                           0.268299   \n3                                           0.268299   \n4                                           0.268299   \n\n   Maternal mortality ratio (deaths per 100,000 live births)  \\\n0                                             1340.0           \n1                                             1270.0           \n2                                             1100.0           \n3                                              821.0           \n4                                              584.0           \n\n   Renewable energy consumption (% of total final energy consumption)  \\\n0                                               15.9                    \n1                                               35.1                    \n2                                               54.2                    \n3                                               40.9                    \n4                                               14.8                    \n\n   Fossil fuel energy consumption (% of total energy consumption)  \n0                                           64.36662               \n1                                           64.36662               \n2                                           64.36662               \n3                                           64.36662               \n4                                           64.36662               \n\n[5 rows x 124 columns]",
      "text/html": "<div>\n<style scoped>\n    .dataframe tbody tr th:only-of-type {\n        vertical-align: middle;\n    }\n\n    .dataframe tbody tr th {\n        vertical-align: top;\n    }\n\n    .dataframe thead th {\n        text-align: right;\n    }\n</style>\n<table border=\"1\" class=\"dataframe\">\n  <thead>\n    <tr style=\"text-align: right;\">\n      <th></th>\n      <th>Unnamed: 0</th>\n      <th>country_code</th>\n      <th>country_name</th>\n      <th>year</th>\n      <th>Median age (years)</th>\n      <th>Net migration rate (per 1,000 people)</th>\n      <th>Population with at least some secondary education (% ages 25 and older)</th>\n      <th>Population with at least some secondary education, female (% ages 25 and older)</th>\n      <th>Population with at least some secondary education, male (% ages 25 and older)</th>\n      <th>Mean years of schooling, female (years)</th>\n      <th>...</th>\n      <th>Suicide rate, female (per 100,000 people)</th>\n      <th>Ratio of education and health expenditure to military expenditure</th>\n      <th>Current health expenditure (% of GDP)</th>\n      <th>Age-standarized mortality rate attributed to noncommunicable diseases, female</th>\n      <th>Age-standarized mortality rate attributed to noncommunicable diseases, male</th>\n      <th>Carbon dioxide emissions, per capita (tonnes)</th>\n      <th>Carbon dioxide emissions (kg per 2010 US$ of GDP)</th>\n      <th>Maternal mortality ratio (deaths per 100,000 live births)</th>\n      <th>Renewable energy consumption (% of total final energy consumption)</th>\n      <th>Fossil fuel energy consumption (% of total energy consumption)</th>\n    </tr>\n  </thead>\n  <tbody>\n    <tr>\n      <th>0</th>\n      <td>0</td>\n      <td>AFG</td>\n      <td>Afghanistan</td>\n      <td>1990</td>\n      <td>15.8</td>\n      <td>-25.1</td>\n      <td>8.2</td>\n      <td>2.3</td>\n      <td>13.6</td>\n      <td>0.4</td>\n      <td>...</td>\n      <td>5.748915</td>\n      <td>32.503931</td>\n      <td>6.142729</td>\n      <td>533.469231</td>\n      <td>694.073767</td>\n      <td>5.044112</td>\n      <td>0.268299</td>\n      <td>1340.0</td>\n      <td>15.9</td>\n      <td>64.36662</td>\n    </tr>\n    <tr>\n      <th>1</th>\n      <td>1</td>\n      <td>AFG</td>\n      <td>Afghanistan</td>\n      <td>1995</td>\n      <td>16.0</td>\n      <td>40.3</td>\n      <td>9.8</td>\n      <td>3.5</td>\n      <td>15.7</td>\n      <td>0.6</td>\n      <td>...</td>\n      <td>5.748915</td>\n      <td>32.503931</td>\n      <td>6.142729</td>\n      <td>533.469231</td>\n      <td>694.073767</td>\n      <td>5.044112</td>\n      <td>0.268299</td>\n      <td>1270.0</td>\n      <td>35.1</td>\n      <td>64.36662</td>\n    </tr>\n    <tr>\n      <th>2</th>\n      <td>2</td>\n      <td>AFG</td>\n      <td>Afghanistan</td>\n      <td>2000</td>\n      <td>15.5</td>\n      <td>-8.9</td>\n      <td>11.1</td>\n      <td>4.5</td>\n      <td>17.0</td>\n      <td>0.8</td>\n      <td>...</td>\n      <td>1.700000</td>\n      <td>32.503931</td>\n      <td>6.142729</td>\n      <td>857.800000</td>\n      <td>997.800000</td>\n      <td>5.044112</td>\n      <td>0.268299</td>\n      <td>1100.0</td>\n      <td>54.2</td>\n      <td>64.36662</td>\n    </tr>\n    <tr>\n      <th>3</th>\n      <td>3</td>\n      <td>AFG</td>\n      <td>Afghanistan</td>\n      <td>2005</td>\n      <td>16.0</td>\n      <td>6.4</td>\n      <td>14.5</td>\n      <td>6.3</td>\n      <td>22.3</td>\n      <td>1.0</td>\n      <td>...</td>\n      <td>5.748915</td>\n      <td>32.503931</td>\n      <td>9.900000</td>\n      <td>533.469231</td>\n      <td>694.073767</td>\n      <td>5.044112</td>\n      <td>0.268299</td>\n      <td>821.0</td>\n      <td>40.9</td>\n      <td>64.36662</td>\n    </tr>\n    <tr>\n      <th>4</th>\n      <td>4</td>\n      <td>AFG</td>\n      <td>Afghanistan</td>\n      <td>2010</td>\n      <td>15.9</td>\n      <td>-7.6</td>\n      <td>18.2</td>\n      <td>5.9</td>\n      <td>29.8</td>\n      <td>1.2</td>\n      <td>...</td>\n      <td>2.100000</td>\n      <td>6.200000</td>\n      <td>8.600000</td>\n      <td>826.100000</td>\n      <td>946.000000</td>\n      <td>5.044112</td>\n      <td>0.268299</td>\n      <td>584.0</td>\n      <td>14.8</td>\n      <td>64.36662</td>\n    </tr>\n  </tbody>\n</table>\n<p>5 rows × 124 columns</p>\n</div>"
     },
     "execution_count": 2,
     "metadata": {},
     "output_type": "execute_result"
    }
   ],
   "source": [
    "data = pd.read_csv('datafinal2.csv')\n",
    "data.head()"
   ],
   "metadata": {
    "collapsed": false,
    "pycharm": {
     "name": "#%%\n"
    }
   }
  },
  {
   "cell_type": "code",
   "execution_count": 3,
   "outputs": [
    {
     "data": {
      "text/plain": "array([[0.0147216 , 0.00123824, 0.0009589 , ..., 0.01028224, 0.00123892,\n        0.00156994],\n       [0.01475575, 0.00123961, 0.00140557, ..., 0.00980416, 0.00137005,\n        0.00156994],\n       [0.0147899 , 0.00123619, 0.00106954, ..., 0.00864309, 0.0015005 ,\n        0.00156994],\n       ...,\n       [0.01482405, 0.00125531, 0.00105042, ..., 0.00542626, 0.00167808,\n        0.00133727],\n       [0.0148582 , 0.00125736, 0.00107364, ..., 0.00417641, 0.00169652,\n        0.00130039],\n       [0.01489235, 0.001256  , 0.00106613, ..., 0.00415592, 0.00168901,\n        0.00156994]])"
     },
     "execution_count": 3,
     "metadata": {},
     "output_type": "execute_result"
    }
   ],
   "source": [
    "from sklearn.cluster import KMeans\n",
    "dataset = data.iloc[:, 3:].values\n",
    "data_norm = (dataset-dataset.min())/(dataset.max()-dataset.min())\n",
    "data_norm"
   ],
   "metadata": {
    "collapsed": false,
    "pycharm": {
     "name": "#%%\n"
    }
   }
  },
  {
   "cell_type": "code",
   "execution_count": 4,
   "outputs": [
    {
     "data": {
      "text/plain": "<Figure size 432x288 with 1 Axes>",
      "image/png": "[encoded data removed]"
     },
     "metadata": {
      "needs_background": "light"
     },
     "output_type": "display_data"
    }
   ],
   "source": [
    "wcss= []\n",
    "for i in range(1, 11):\n",
    "    kmeans = KMeans(n_clusters = i, init = 'k-means++', random_state = 42)\n",
    "    kmeans.fit(data_norm)\n",
    "    wcss.append(kmeans.inertia_)\n",
    "\n",
    "plt.plot(range(1, 11), wcss, label='Clusters')\n",
    "plt.title('The Elbow Method')\n",
    "plt.xlabel('Number of clusters')\n",
    "plt.ylabel('WCSS')\n",
    "plt.legend()\n",
    "plt.show()"
   ],
   "metadata": {
    "collapsed": false,
    "pycharm": {
     "name": "#%%\n"
    }
   }
  },
  {
   "cell_type": "code",
   "execution_count": 5,
   "outputs": [],
   "source": [
    "kmeansM = KMeans(n_clusters = 3, init = 'k-means++', random_state = 42)\n",
    "y_kmeans_M = kmeansM.fit_predict(data_norm)"
   ],
   "metadata": {
    "collapsed": false,
    "pycharm": {
     "name": "#%%\n"
    }
   }
  },
  {
   "cell_type": "code",
   "execution_count": 6,
   "outputs": [
    {
     "data": {
      "text/plain": "array([0.01480351, 0.00128946, 0.00111363, 0.00142689, 0.00140648,\n       0.00145262, 0.00117054, 0.00117762, 0.00123076, 0.00168544,\n       0.00147316, 0.00140316, 0.00144801, 0.00150892, 0.00147198,\n       0.0016409 , 0.00113751, 0.00116415, 0.00130238, 0.00129603,\n       0.00126485, 0.00120129, 0.00113355, 0.00157325, 0.00120231,\n       0.00113375, 0.00113464, 0.00127711, 0.00126665, 0.00117356,\n       0.00113504, 0.00113425, 0.00113381, 0.00124597, 0.00158989,\n       0.00155698, 0.00155536, 0.00119272, 0.00120322, 0.00120546,\n       0.03788281, 0.0751152 , 0.00143878, 0.00114575, 0.00116   ,\n       0.04968146, 0.00113432, 0.00113469, 0.00113434, 0.00113649,\n       0.00118906, 0.04603986, 0.00294624, 0.00155545, 0.0015209 ,\n       0.00139507, 0.0014225 , 0.00140372, 0.00113912, 0.00113871,\n       0.00139379, 0.00169468, 0.00115378, 0.0011337 , 0.00128491,\n       0.00129821, 0.00110529, 0.0012816 , 0.00113396, 0.00128021,\n       0.0016427 , 0.00144884, 0.00126854, 0.00128913, 0.00147848,\n       0.00126038, 0.00169864, 0.00133541, 0.00181043, 0.00158085,\n       0.00144235, 0.00157605, 0.00168188, 0.00115974, 0.00143478,\n       0.00157466, 0.00244111, 0.00296582, 0.00119418, 0.00116383,\n       0.00118054, 0.00221637, 0.00117307, 0.00113256, 0.00123193,\n       0.00144313, 0.0015587 , 0.00189687, 0.00224196, 0.00167852,\n       0.00156706, 0.00114519, 0.02145554, 0.00109791, 0.00113545,\n       0.00146994, 0.00170936, 0.00170265, 0.00125921, 0.00134747,\n       0.00124228, 0.00117067, 0.00137863, 0.00117066, 0.00497099,\n       0.00605098, 0.00115589, 0.00113215, 0.00324927, 0.00142058,\n       0.00154443])"
     },
     "execution_count": 6,
     "metadata": {},
     "output_type": "execute_result"
    }
   ],
   "source": [
    "centroids_V = kmeansM.cluster_centers_\n",
    "centroids_V[0]"
   ],
   "metadata": {
    "collapsed": false,
    "pycharm": {
     "name": "#%%\n"
    }
   }
  },
  {
   "cell_type": "code",
   "execution_count": 7,
   "outputs": [
    {
     "data": {
      "text/plain": "array([0.01481646, 0.00137378, 0.00116051, 0.00163058, 0.0016282 ,\n       0.00165518, 0.00119951, 0.00120272, 0.00126985, 0.0012577 ,\n       0.00120662, 0.00134091, 0.00165799, 0.00174463, 0.00146895,\n       0.00161783, 0.00113754, 0.001138  , 0.00127134, 0.00148451,\n       0.00119187, 0.00114995, 0.00113187, 0.00165982, 0.0012349 ,\n       0.00113456, 0.00113535, 0.00123427, 0.00122172, 0.0012011 ,\n       0.00113637, 0.00113632, 0.00113557, 0.00124183, 0.00167859,\n       0.00164088, 0.00133706, 0.00126216, 0.00123713, 0.0012332 ,\n       0.15091849, 0.27774728, 0.00183408, 0.00116098, 0.00114322,\n       0.23640313, 0.0011358 , 0.00113602, 0.00113605, 0.00113688,\n       0.00118049, 0.23802844, 0.00884276, 0.00154675, 0.00151697,\n       0.00116714, 0.00159981, 0.00132968, 0.00114102, 0.00113878,\n       0.00141083, 0.00176221, 0.00117723, 0.00113435, 0.00124949,\n       0.00127782, 0.00112439, 0.00124693, 0.00113467, 0.00128431,\n       0.00176121, 0.00148851, 0.00146412, 0.00128911, 0.00158834,\n       0.00123739, 0.00170476, 0.00125858, 0.00182316, 0.00182198,\n       0.00163588, 0.00158175, 0.00169859, 0.00116419, 0.00117655,\n       0.00118559, 0.00162947, 0.0020447 , 0.00115407, 0.00114899,\n       0.00117108, 0.00224068, 0.001198  , 0.0011322 , 0.00123554,\n       0.00156044, 0.00180262, 0.00181229, 0.00147083, 0.00177616,\n       0.00174814, 0.00113669, 0.08693436, 0.00111305, 0.00114058,\n       0.00156784, 0.00171383, 0.00174109, 0.00120548, 0.00133398,\n       0.00124624, 0.00116687, 0.00126608, 0.00117949, 0.00411552,\n       0.0053172 , 0.00118604, 0.00113224, 0.00122205, 0.00121736,\n       0.00164591])"
     },
     "execution_count": 7,
     "metadata": {},
     "output_type": "execute_result"
    }
   ],
   "source": [
    "centroids_V[1]"
   ],
   "metadata": {
    "collapsed": false,
    "pycharm": {
     "name": "#%%\n"
    }
   }
  },
  {
   "cell_type": "code",
   "execution_count": 8,
   "outputs": [],
   "source": [
    "a = pd.DataFrame(centroids_V)"
   ],
   "metadata": {
    "collapsed": false,
    "pycharm": {
     "name": "#%%\n"
    }
   }
  },
  {
   "cell_type": "code",
   "execution_count": 9,
   "outputs": [],
   "source": [
    "#a.to_csv('centroides.csv')"
   ],
   "metadata": {
    "collapsed": false,
    "pycharm": {
     "name": "#%%\n"
    }
   }
  },
  {
   "cell_type": "code",
   "execution_count": null,
   "outputs": [],
   "source": [],
   "metadata": {
    "collapsed": false,
    "pycharm": {
     "name": "#%%\n"
    }
   }
  }
 ],
 "metadata": {
  "kernelspec": {
   "display_name": "Python 3",
   "language": "python",
   "name": "python3"
  },
  "language_info": {
   "codemirror_mode": {
    "name": "ipython",
    "version": 2
   },
   "file_extension": ".py",
   "mimetype": "text/x-python",
   "name": "python",
   "nbconvert_exporter": "python",
   "pygments_lexer": "ipython2",
   "version": "2.7.6"
  }
 },
 "nbformat": 4,
 "nbformat_minor": 0
}